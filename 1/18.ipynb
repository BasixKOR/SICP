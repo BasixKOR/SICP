{
 "cells": [
  {
   "cell_type": "markdown",
   "id": "passing-gates",
   "metadata": {},
   "source": [
    "**Exercise 1.18:** Using the results of Exercise 1.16 and Exercise 1.17, devise a procedure that generates an iterative process for multiplying two integers in terms of adding, doubling, and halving and uses a logarithmic number of steps."
   ]
  },
  {
   "cell_type": "code",
   "execution_count": 1,
   "id": "asian-climate",
   "metadata": {},
   "outputs": [],
   "source": [
    "(define (double a) (* a 2))\n",
    "(define (halve a) (/ a 2))\n",
    "\n",
    "; 먼저 있다고 가정한 프로시저들을 만들어줍니다."
   ]
  },
  {
   "cell_type": "markdown",
   "id": "bigger-dispatch",
   "metadata": {},
   "source": [
    "## 답\n",
    "\n",
    "상태 변수 (여기서는 c)를 더해야 한다는 점만 유의하면 나머지는 쉽게 식을 세울 수 있다.\n",
    "\n",
    "$$ab+c=a+a(b-1)+c=a(b-1)+(a+c)$$\n",
    "$$ab=2a\\times {b\\over2}$$"
   ]
  },
  {
   "cell_type": "code",
   "execution_count": 3,
   "id": "latest-safety",
   "metadata": {},
   "outputs": [],
   "source": [
    "(define (multiply a b)\n",
    "  (let iter ((a a) (b b) (c 1))\n",
    "    (cond ((= b 0) c)\n",
    "          ((even? b) (iter (double a) (halve b) c))\n",
    "          (else (iter a (- b 1) (+ a c))))))"
   ]
  },
  {
   "cell_type": "code",
   "execution_count": 5,
   "id": "modern-installation",
   "metadata": {},
   "outputs": [
    {
     "name": "stdout",
     "output_type": "stream",
     "text": [
      ">(multiply 17 19)\n",
      "<324\n"
     ]
    },
    {
     "data": {
      "text/html": [
       "<code>324</code>"
      ],
      "text/plain": [
       "324"
      ]
     },
     "execution_count": 5,
     "metadata": {},
     "output_type": "execute_result"
    }
   ],
   "source": [
    "(multiply 17 19)"
   ]
  }
 ],
 "metadata": {
  "kernelspec": {
   "display_name": "Racket",
   "language": "racket",
   "name": "racket"
  },
  "language_info": {
   "codemirror_mode": "scheme",
   "file_extension": ".rkt",
   "mimetype": "text/x-racket",
   "name": "Racket",
   "pygments_lexer": "racket",
   "version": "8.0"
  }
 },
 "nbformat": 4,
 "nbformat_minor": 5
}
