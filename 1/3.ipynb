{
 "cells": [
  {
   "cell_type": "markdown",
   "id": "relative-nation",
   "metadata": {},
   "source": [
    "**Exercise 1.3**\n",
    "\n",
    "Define a procedure that takes three numbers as arguments and returns the sum of the squares of the two larger numbers.\n",
    "\n",
    "[SICP Solutions](https://codology.net/post/sicp-solution-exercise-1-3/)"
   ]
  },
  {
   "cell_type": "code",
   "execution_count": 2,
   "id": "fifty-sixth",
   "metadata": {},
   "outputs": [],
   "source": [
    "(define (fun . numbers)\n",
    "  (define list (sort numbers >))\n",
    "  (let ((first (car list))\n",
    "        (second (car (cdr list))))\n",
    "    (+ (* first first) (* second second))))"
   ]
  },
  {
   "cell_type": "code",
   "execution_count": 3,
   "id": "improving-sacramento",
   "metadata": {},
   "outputs": [
    {
     "output_type": "execute_result",
     "data": {
      "text/html": "<code>#t</code>",
      "text/plain": [
       "#t"
      ]
     },
     "metadata": {},
     "execution_count": 3
    }
   ],
   "source": [
    "(define (sum-square x y) (+ (* x x) (* y y)))\n",
    "\n",
    "(and (= (fun 10 10 10) (sum-square 10 10))\n",
    "    (= (fun 1 10 10) (sum-square 10 10))\n",
    "    (= (fun 10 1 10) (sum-square 10 10))\n",
    "    (= (fun 10 10 1) (sum-square 10 10))\n",
    "    (= (fun 1 10 100) (sum-square 10 100))\n",
    "    (= (fun 1 100 10) (sum-square 10 100))\n",
    "    (= (fun 10 1 100) (sum-square 10 100))\n",
    "    (= (fun 10 100 1) (sum-square 10 100))\n",
    "    (= (fun 100 10 1) (sum-square 10 100))\n",
    "    (= (fun 100 1 10) (sum-square 10 100)))"
   ]
  }
 ],
 "metadata": {
  "kernelspec": {
   "display_name": "Racket",
   "language": "racket",
   "name": "racket"
  },
  "language_info": {
   "codemirror_mode": "scheme",
   "file_extension": ".rkt",
   "mimetype": "text/x-racket",
   "name": "Racket",
   "pygments_lexer": "racket",
   "version": "8.0"
  }
 },
 "nbformat": 4,
 "nbformat_minor": 5
}