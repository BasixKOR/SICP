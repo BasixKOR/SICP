{
 "cells": [
  {
   "cell_type": "markdown",
   "id": "varying-uganda",
   "metadata": {},
   "source": [
    "**Exercise 1.17:** The exponentiation algorithms in this section are based on performing exponentiation by means of repeated multiplication. In a similar way, one can perform integer multiplication by means of repeated addition. The following multiplication procedure (in which it is assumed that our language can only add, not multiply) is analogous to the `expt` procedure:\n",
    "\n",
    "```scheme\n",
    "(define (* a b)\n",
    "  (if (= b 0)\n",
    "      0\n",
    "      (+ a (* a (- b 1)))))\n",
    "```\n",
    "\n",
    "This algorithm takes `a` number of steps that is linear in `b`. Now suppose we include, together with addition, operations double, which doubles an integer, and halve, which divides an (even) integer by 2. Using these, design a multiplication procedure analogous to `fast-expt` that uses a logarithmic number of steps."
   ]
  },
  {
   "cell_type": "code",
   "execution_count": 1,
   "id": "korean-deputy",
   "metadata": {},
   "outputs": [],
   "source": [
    "(define (double a) (* a 2))\n",
    "(define (halve a) (/ a 2))\n",
    "\n",
    "; 먼저 있다고 가정한 프로시저들을 만들어줍니다."
   ]
  },
  {
   "cell_type": "markdown",
   "id": "intermediate-agriculture",
   "metadata": {},
   "source": [
    "## 답\n",
    "\n",
    "fast-expr과 같은 방식으로 일종의 '빠른 곱셈' 프로시저를 만들어내면 될 것 같다. 로그 비례로 자라나는 프로시저를 짜라고 했지만 재귀여야 하는지 아니면 반복이어야 하는지는 말하지 않았으니 재귀 방식으로 짜 보자."
   ]
  },
  {
   "cell_type": "code",
   "execution_count": 4,
   "id": "southern-cardiff",
   "metadata": {},
   "outputs": [],
   "source": [
    "(define (multiply a b)\n",
    "  (cond ((= b 0) 0)\n",
    "        ((even? b) (double (multiply a (halve b))))\n",
    "        (else (+ a (multiply a (- b 1))))))"
   ]
  },
  {
   "cell_type": "code",
   "execution_count": 5,
   "id": "consolidated-sudan",
   "metadata": {},
   "outputs": [
    {
     "name": "stdout",
     "output_type": "stream",
     "text": [
      ">(multiply 17 19)\n",
      "> (multiply 17 18)\n",
      "> >(multiply 17 9)\n",
      "> > (multiply 17 8)\n",
      "> > >(multiply 17 4)\n",
      "> > > (multiply 17 2)\n",
      "> > > >(multiply 17 1)\n",
      "> > > > (multiply 17 0)\n",
      "< < < < 0\n",
      "< < < <17\n",
      "< < < 34\n",
      "< < <68\n",
      "< < 136\n",
      "< <153\n",
      "< 306\n",
      "<323\n"
     ]
    },
    {
     "data": {
      "text/html": [
       "<code>323</code>"
      ],
      "text/plain": [
       "323"
      ]
     },
     "execution_count": 5,
     "metadata": {},
     "output_type": "execute_result"
    }
   ],
   "source": [
    "(require racket/trace)\n",
    "(trace multiply)\n",
    "(multiply 17 19)"
   ]
  }
 ],
 "metadata": {
  "kernelspec": {
   "display_name": "Racket",
   "language": "racket",
   "name": "racket"
  },
  "language_info": {
   "codemirror_mode": "scheme",
   "file_extension": ".rkt",
   "mimetype": "text/x-racket",
   "name": "Racket",
   "pygments_lexer": "racket",
   "version": "8.0"
  }
 },
 "nbformat": 4,
 "nbformat_minor": 5
}
