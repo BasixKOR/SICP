{
 "cells": [
  {
   "cell_type": "markdown",
   "id": "ordinary-sphere",
   "metadata": {},
   "source": [
    "**Exercise 1.16:** Design a procedure that evolves an iterative exponentiation process that uses successive squaring and uses a logarithmic number of steps, as does `fast-expt`. (Hint: Using the observation that ${(b^{n/2})^2}={(b^2)^{n/2}}$, keep, along with the exponent $n$ and the base $b$, an additional state variable $a$, and define the state transformation in such a way that the product ${ab^n}$ is unchanged from state to state. At the beginning of the process $a$ is taken to be 1, and the answer is given by the value of $a$ at the end of the process. In general, the technique of defining an _invariant quantity_ that remains unchanged from state to state is a powerful way to think about the design of iterative algorithms.)"
   ]
  },
  {
   "cell_type": "code",
   "execution_count": 1,
   "id": "placed-investigator",
   "metadata": {},
   "outputs": [],
   "source": [
    "(define (fast-expt b n) ; original of SICP, recursive\n",
    "  (cond ((= n 0) 1)\n",
    "        ((even? n) (square (fast-expt b (/ n 2))))\n",
    "        (else (* b (fast-expt b (- n 1))))))"
   ]
  },
  {
   "cell_type": "markdown",
   "id": "breeding-milton",
   "metadata": {},
   "source": [
    "## 답\n",
    "\n",
    "힌트에서는 새로운 상태 a를 만들어서 ${ab^n}$ 이 항상 같도록 하라는 수수께끼 같은 힌트를 줬다. 어떻게 하라는 건지 잘 모르겠어서 일단 a를 넣고 식을 무작정 세워 봤다. 힌트를 참조해서 2와 n/2의 위치도 바꿔 봤다.\n",
    "\n",
    "$$ab^n=a(b^2)^{n/2}$$\n",
    "$$ab^n=abb^{n-1}$$\n",
    "\n",
    "이제 이걸 코드로 옮겨 보자."
   ]
  },
  {
   "cell_type": "code",
   "execution_count": 2,
   "id": "ethical-condition",
   "metadata": {},
   "outputs": [],
   "source": [
    "(define (f-expt b n)\n",
    "  (let iter ((a 1) (b b) (n n))\n",
    "    (displayln (list a b n))\n",
    "    (cond ((= n 0) a)\n",
    "          ((even? n) (iter a (* b b) (/ n 2)))\n",
    "          (else (iter (* a b) b (- n 1))))))"
   ]
  },
  {
   "cell_type": "code",
   "execution_count": 3,
   "id": "italian-census",
   "metadata": {},
   "outputs": [
    {
     "name": "stdout",
     "output_type": "stream",
     "text": [
      "(1 9 7)\n",
      "(9 9 6)\n",
      "(9 81 3)\n",
      "(729 81 2)\n",
      "(729 6561 1)\n",
      "(4782969 6561 0)\n"
     ]
    },
    {
     "data": {
      "text/html": [
       "<code>4782969</code>"
      ],
      "text/plain": [
       "4782969"
      ]
     },
     "execution_count": 3,
     "metadata": {},
     "output_type": "execute_result"
    }
   ],
   "source": [
    "(f-expt 9 7)"
   ]
  },
  {
   "cell_type": "code",
   "execution_count": null,
   "id": "considerable-tuner",
   "metadata": {},
   "outputs": [],
   "source": []
  }
 ],
 "metadata": {
  "kernelspec": {
   "display_name": "Racket",
   "language": "racket",
   "name": "racket"
  },
  "language_info": {
   "codemirror_mode": "scheme",
   "file_extension": ".rkt",
   "mimetype": "text/x-racket",
   "name": "Racket",
   "pygments_lexer": "racket",
   "version": "8.0"
  }
 },
 "nbformat": 4,
 "nbformat_minor": 5
}
