{
 "cells": [
  {
   "cell_type": "markdown",
   "id": "nonprofit-learning",
   "metadata": {},
   "source": [
    "**Exercise 1.19:** There is a clever algorithm for computing the Fibonacci numbers in a logarithmic number of steps. Recall the transformation of the state variables $a$ and $b$ in the `fib-iter` process of 1.2.2: $a\\leftarrow a+b$ and $b\\leftarrow a$. Call this transformation $T$, and observe that applying $T$ over and over again $n$ times, starting with 1 and 0, produces the pair ${\\text{Fib}(n+1)}$ and ${\\text{Fib}(n)}$. In other words, the Fibonacci numbers are produced by applying $T^n$, the $n^{\\text{th}}$ power of the transformation $T$, starting with the pair (1, 0). Now consider $T$ to be the special case of ${p=0}$ and ${q=0}$ in a family of transformations $T\\_{pq}$, where $T\\_{pq}$ transforms the pair ${(a,b)}$ according to $a\\leftarrow{bq}+{aq}+{ap}$ and $b\\leftarrow{bp}+{aq}$. Show that if we apply such a transformation $T\\_{pq}$ twice, the effect is the same as using a single transformation $T\\_{p'q'}$ of the same form, and compute $p′$ and $q′$ in terms of $p$ and $q$. This gives us an explicit way to square these transformations, and thus we can compute $T^n$ using successive squaring, as in the `fast-expt` procedure. Put this all together to complete the following procedure, which runs in a logarithmic number of steps:\n",
    "\n",
    "```scheme\n",
    "(define (fib n)\n",
    "  (fib-iter 1 0 0 1 n))\n",
    "\n",
    "(define (fib-iter a b p q count)\n",
    "  (cond ((= count 0)\n",
    "         b)\n",
    "        ((even? count)\n",
    "         (fib-iter a\n",
    "                   b\n",
    "                   ⟨??⟩  ;compute p'\n",
    "                   ⟨??⟩  ;compute q'\n",
    "                   (/ count 2)))\n",
    "        (else\n",
    "         (fib-iter (+ (* b q)\n",
    "                      (* a q)\n",
    "                      (* a p))\n",
    "                   (+ (* b p)\n",
    "                      (* a q))\n",
    "                   p\n",
    "                   q\n",
    "                   (- count 1)))))\n",
    "```"
   ]
  },
  {
   "cell_type": "markdown",
   "id": "apparent-brown",
   "metadata": {},
   "source": [
    "## 답\n",
    "\n",
    "먼저 위에서 나온 $T_{pq}$를 두번 엮으면 뭐가 나오나 알아보자.\n",
    "\n",
    "$$T_{pq}(a,b) = (bq+aq+ap,bp+aq)$$\n",
    "$$T_{pq}(T_{pq}(a,b)) = ((bp+aq)q+(bq+aq+ap)q+(bq+aq+ap)p,(bp+aq)p+(bq+aq+ap)q)$$\n",
    "\n",
    "여기선 $\\TeX$로 쓰고 있어서 그나마 낫지면 원래 손으로 풀어서 염증 날 뻔 했다. 아무튼 식을 정리해서 묶을 수 있나 알아보자.\n",
    "\n",
    "$$T_{pq}(T_{pq}(a,b))=(bpq+aq^2+bq^2+aq^2+aqp+bqp+aqp+ap^2,bp^2+aqp+bq^2+aq^2+aqp)$$\n",
    "$$T_{pq}(T_{pq}(a,b))=(b(2qp+q^2)+a(q^2+p^2)+a(2qp+q^2),b(p^2+q^2)+a(2qp+q^2))=T_{p'q'}$$\n",
    "\n",
    "처음의 $T_{pq}$에서 p와 q만 새로운 것으로 교체된 식을 얻을 수 있다! 이게 문제에서 말한 $p'$와 $q'$이라면, 문제에서 해당하는 부분에 대입하면 작동할 것이다."
   ]
  },
  {
   "cell_type": "code",
   "execution_count": 2,
   "id": "curious-qualification",
   "metadata": {},
   "outputs": [],
   "source": [
    "(define (fib n)\n",
    "  (let fib-iter ((a 1) (b 0) (p 0) (q 1) (count n))\n",
    "    (cond ((= count 0)\n",
    "         b)\n",
    "        ((even? count)\n",
    "         (fib-iter a\n",
    "                   b\n",
    "                   (+ (* q q) (* p p))\n",
    "                   (+ (* 2 q p) (* q q))\n",
    "                   (/ count 2)))\n",
    "        (else\n",
    "         (fib-iter (+ (* b q)\n",
    "                      (* a q)\n",
    "                      (* a p))\n",
    "                   (+ (* b p)\n",
    "                      (* a q))\n",
    "                   p\n",
    "                   q\n",
    "                   (- count 1))))))"
   ]
  },
  {
   "cell_type": "code",
   "execution_count": 3,
   "id": "faced-bradford",
   "metadata": {},
   "outputs": [
    {
     "name": "stdout",
     "output_type": "stream",
     "text": [
      ">(fib-t 17)\n",
      "<1597\n"
     ]
    },
    {
     "data": {
      "text/html": [
       "<code>1597</code>"
      ],
      "text/plain": [
       "1597"
      ]
     },
     "execution_count": 3,
     "metadata": {},
     "output_type": "execute_result"
    }
   ],
   "source": [
    "(require racket/trace)\n",
    "(trace-call 'fib-t fib 17)"
   ]
  }
 ],
 "metadata": {
  "kernelspec": {
   "display_name": "Racket",
   "language": "racket",
   "name": "racket"
  },
  "language_info": {
   "codemirror_mode": "scheme",
   "file_extension": ".rkt",
   "mimetype": "text/x-racket",
   "name": "Racket",
   "pygments_lexer": "racket",
   "version": "8.0"
  }
 },
 "nbformat": 4,
 "nbformat_minor": 5
}
