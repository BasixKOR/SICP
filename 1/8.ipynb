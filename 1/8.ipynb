{
 "cells": [
  {
   "cell_type": "markdown",
   "id": "female-algebra",
   "metadata": {},
   "source": [
    "**Exercise 1.8:**\n",
    "\n",
    "Newton’s method for cube roots is based on the fact that if $y$ is an approximation to the cube root of $x$, then a better approximation is given by the value\n",
    "\n",
    "$${\\frac{{x/y^2}+2y}3.}$$\n",
    "\n",
    "Use this formula to implement a cube-root procedure analogous to the square-root procedure. (In 1.3.4 we will see how to implement Newton’s method in general as an abstraction of these square-root and cube-root procedures.)"
   ]
  },
  {
   "cell_type": "code",
   "execution_count": 1,
   "id": "confused-cliff",
   "metadata": {},
   "outputs": [],
   "source": [
    "(define (good-enough? previous-guess guess)\n",
    "  (< (abs (/ (- guess previous-guess) guess)) 0.001))\n",
    "\n",
    "(define (improve guess x)\n",
    "  (/ (+ (/ x (* guess guess)) (* 2 guess)) 3))\n",
    "\n",
    "(define (cubic-root x)\n",
    "  (define (iter guess x)\n",
    "    (if (good-enough? guess x)\n",
    "        guess\n",
    "        (iter (improve guess x) x)))\n",
    "  (iter 1.0 x))"
   ]
  },
  {
   "cell_type": "code",
   "execution_count": null,
   "id": "individual-istanbul",
   "metadata": {},
   "outputs": [],
   "source": [
    "(cubic-root 27)"
   ]
  }
 ],
 "metadata": {
  "kernelspec": {
   "display_name": "Racket",
   "language": "racket",
   "name": "racket"
  },
  "language_info": {
   "codemirror_mode": "scheme",
   "file_extension": ".rkt",
   "mimetype": "text/x-racket",
   "name": "Racket",
   "pygments_lexer": "racket",
   "version": "8.0"
  }
 },
 "nbformat": 4,
 "nbformat_minor": 5
}
