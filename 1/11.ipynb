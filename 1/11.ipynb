{
 "cells": [
  {
   "cell_type": "markdown",
   "id": "informative-horse",
   "metadata": {},
   "source": [
    "**Exercise 1.11**\n",
    "\n",
    "A function $f$ is defined by the rule that ${f(n)=n}$ if ${n<3}$ and\n",
    "${f(n)}={f(n-1)}+{2f(n-2)}+{3f(n-3)}$ if ${n\\geq3}$.\n",
    "\n",
    "Write a procedure that computes f by means of a recursive process. Write a procedure that computes f by means of an iterative process."
   ]
  },
  {
   "cell_type": "code",
   "execution_count": 2,
   "id": "dried-violin",
   "metadata": {},
   "outputs": [],
   "source": [
    "(define (f-r n) ; recursive, branched\n",
    "  (if (< n 3)\n",
    "      n\n",
    "      (+ (f-r (- n 1))\n",
    "         (f-r (- n 2))\n",
    "         (f-r (- n 3)))))"
   ]
  },
  {
   "cell_type": "markdown",
   "id": "going-assessment",
   "metadata": {},
   "source": [
    "```scheme\n",
    "(f-r 6)\n",
    "(+ (f-r 5) (f-r 4) (f-r 3))\n",
    "(+ (+ (f-r 4) (f-r 3) (f-r 2)) (+ (f-r 3) (f-r 2) (f-r 1)) (+ (f-r 2) (f-r 1) (f-r 0)))\n",
    "(+ (+ (f-r 4) (f-r 3) 2) (+ (f-r 3) 2 1) (+ 2 1 0))\n",
    "...\n",
    "```\n",
    "\n",
    "위 함수는 이런 식으로 풀린다. (솔직히 풀어서 쓸 자신이 없다.)"
   ]
  },
  {
   "cell_type": "code",
   "execution_count": 4,
   "id": "incorporate-berry",
   "metadata": {},
   "outputs": [],
   "source": [
    "(define (f-i n) ; iterative\n",
    "  (define (iter a b c count)\n",
    "    (if (= count 3)\n",
    "        (+ a b c)\n",
    "        (iter (+ a b c) a b (- count 1))))\n",
    "  (iter 2 1 0 n))"
   ]
  },
  {
   "cell_type": "markdown",
   "id": "advanced-honor",
   "metadata": {},
   "source": [
    "```scheme\n",
    "(f-i 6)\n",
    "(iter 2 1 0 6)\n",
    "(iter 3 2 1 5)\n",
    "(iter 6 3 2 4)\n",
    "(iter 11 6 3 3)\n",
    "(+ 11 6 3)\n",
    "20\n",
    "```\n",
    "\n",
    "위 함수는 이런 식으로 풀린다."
   ]
  }
 ],
 "metadata": {
  "kernelspec": {
   "display_name": "Racket",
   "language": "racket",
   "name": "racket"
  },
  "language_info": {
   "codemirror_mode": "scheme",
   "file_extension": ".rkt",
   "mimetype": "text/x-racket",
   "name": "Racket",
   "pygments_lexer": "racket",
   "version": "8.0"
  }
 },
 "nbformat": 4,
 "nbformat_minor": 5
}
