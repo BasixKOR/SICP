{
 "cells": [
  {
   "cell_type": "markdown",
   "id": "rotary-mystery",
   "metadata": {},
   "source": [
    "**Exercise 1.12**\n",
    "\n",
    "The following pattern of numbers is called Pascal’s triangle.\n",
    "\n",
    "```\n",
    "         1\n",
    "       1   1\n",
    "     1   2   1\n",
    "   1   3   3   1\n",
    " 1   4   6   4   1\n",
    "       . . .\n",
    "```\n",
    "\n",
    "The numbers at the edge of the triangle are all 1, and each number inside the triangle is the sum of the two numbers above it. Write a procedure that computes elements of Pascal’s triangle by means of a recursive process."
   ]
  },
  {
   "cell_type": "code",
   "execution_count": 5,
   "id": "chinese-calgary",
   "metadata": {},
   "outputs": [],
   "source": [
    "(define (pascal row col)\n",
    "  (cond ((= col 1) 1)\n",
    "        ((= col row) 1)\n",
    "        (else (+ (pascal (- row 1) (- col 1))\n",
    "                 (pascal (- row 1) col)))))"
   ]
  },
  {
   "cell_type": "markdown",
   "id": "composite-display",
   "metadata": {},
   "source": [
    "아래는 테스트를 위한 코드이다."
   ]
  },
  {
   "cell_type": "code",
   "execution_count": 6,
   "id": "exclusive-miller",
   "metadata": {},
   "outputs": [],
   "source": [
    "; display helpers ;\n",
    "(require racket)\n",
    "\n",
    "(define (pascal-row row)\n",
    "  (define columns (range 1 (+ row 1)))\n",
    "  (map (lambda (col) (pascal row col)) columns))"
   ]
  },
  {
   "cell_type": "code",
   "execution_count": 9,
   "id": "deluxe-instrument",
   "metadata": {},
   "outputs": [
    {
     "name": "stdout",
     "output_type": "stream",
     "text": [
      "(1)\n",
      "(1 1)\n",
      "(1 2 1)\n",
      "(1 3 3 1)\n",
      "(1 4 6 4 1)\n"
     ]
    }
   ],
   "source": [
    "(displayln (pascal-row 1))\n",
    "(displayln (pascal-row 2))\n",
    "(displayln (pascal-row 3))\n",
    "(displayln (pascal-row 4))\n",
    "(displayln (pascal-row 5))"
   ]
  }
 ],
 "metadata": {
  "kernelspec": {
   "display_name": "Racket",
   "language": "racket",
   "name": "racket"
  },
  "language_info": {
   "codemirror_mode": "scheme",
   "file_extension": ".rkt",
   "mimetype": "text/x-racket",
   "name": "Racket",
   "pygments_lexer": "racket",
   "version": "8.0"
  }
 },
 "nbformat": 4,
 "nbformat_minor": 5
}
